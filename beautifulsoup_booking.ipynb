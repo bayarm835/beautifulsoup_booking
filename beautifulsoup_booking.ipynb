{
 "cells": [
  {
   "cell_type": "code",
   "execution_count": 22,
   "metadata": {},
   "outputs": [
    {
     "name": "stdout",
     "output_type": "stream",
     "text": [
      "Requirement already satisfied: requests in c:\\users\\moon\\appdata\\local\\packages\\pythonsoftwarefoundation.python.3.11_qbz5n2kfra8p0\\localcache\\local-packages\\python311\\site-packages (2.32.3)\n",
      "Requirement already satisfied: charset-normalizer<4,>=2 in c:\\users\\moon\\appdata\\local\\packages\\pythonsoftwarefoundation.python.3.11_qbz5n2kfra8p0\\localcache\\local-packages\\python311\\site-packages (from requests) (3.4.0)\n",
      "Requirement already satisfied: idna<4,>=2.5 in c:\\users\\moon\\appdata\\local\\packages\\pythonsoftwarefoundation.python.3.11_qbz5n2kfra8p0\\localcache\\local-packages\\python311\\site-packages (from requests) (3.10)\n",
      "Requirement already satisfied: urllib3<3,>=1.21.1 in c:\\users\\moon\\appdata\\local\\packages\\pythonsoftwarefoundation.python.3.11_qbz5n2kfra8p0\\localcache\\local-packages\\python311\\site-packages (from requests) (2.2.3)\n",
      "Requirement already satisfied: certifi>=2017.4.17 in c:\\users\\moon\\appdata\\local\\packages\\pythonsoftwarefoundation.python.3.11_qbz5n2kfra8p0\\localcache\\local-packages\\python311\\site-packages (from requests) (2024.8.30)\n"
     ]
    },
    {
     "name": "stderr",
     "output_type": "stream",
     "text": [
      "\n",
      "[notice] A new release of pip is available: 24.0 -> 24.2\n",
      "[notice] To update, run: C:\\Users\\moon\\AppData\\Local\\Microsoft\\WindowsApps\\PythonSoftwareFoundation.Python.3.11_qbz5n2kfra8p0\\python.exe -m pip install --upgrade pip\n"
     ]
    }
   ],
   "source": [
    "!pip install requests"
   ]
  },
  {
   "cell_type": "code",
   "execution_count": 23,
   "metadata": {},
   "outputs": [],
   "source": [
    "from bs4 import BeautifulSoup\n",
    "import requests\n",
    "import pandas as pd\n",
    "from datetime import datetime, timedelta"
   ]
  },
  {
   "cell_type": "code",
   "execution_count": 24,
   "metadata": {},
   "outputs": [],
   "source": [
    "# Obtenir la date actuelle\n",
    "current_date = datetime.now()\n",
    "\n",
    "# Formater la date pour l'URL (format: YYYY-MM-DD)\n",
    "checkin_date = current_date.strftime('%Y-%m-%d')\n",
    "checkout_date = (current_date + timedelta(days=1)).strftime('%Y-%m-%d')  # Ajouter un jour pour le départ\n",
    "\n",
    "# Construire l'URL avec les dates formatées\n",
    "url = f'https://www.booking.com/searchresults.html?ss=London&ssne=London&ssne_untouched=London&efdco=1&label=gog235jc-1DCAEoggI46AdICVgDaFCIAQGYAQm4ARfIAQzYAQPoAQH4AQKIAgGoAgO4ArDuuaEGwAIB0gIkZmJhYjE4YzAtNDdhMy00MmY1LTk2NWItN2UzOTgyNTk1OWEx2AIE4AIB&aid=397594&lang=en-us&sb=1&src_elem=sb&src=searchresults&dest_id=-2601889&dest_type=city&checkin={checkin_date}&checkout={checkout_date}&ltfd=6%3A1%3A5-2023%3A%3A1&group_adults=2&no_rooms=1&group_children=0'"
   ]
  },
  {
   "cell_type": "code",
   "execution_count": 25,
   "metadata": {},
   "outputs": [],
   "source": [
    "headers = {\n",
    "    'User-Agent': 'Mozilla/5.0 (X11; CrOS x86_64 8172.45.0) AppleWebKit/537.36 (KHTML, like Gecko) Chrome/51.0.2704.64 Safari/537.36',\n",
    "    'Accept-Language': 'en-US, en;q=0.5'\n",
    "}\n",
    "\n",
    "response  = requests.get(url, headers=headers)"
   ]
  },
  {
   "cell_type": "code",
   "execution_count": 26,
   "metadata": {},
   "outputs": [],
   "source": [
    "soup = BeautifulSoup(response.text, 'html.parser')"
   ]
  },
  {
   "cell_type": "code",
   "execution_count": 41,
   "metadata": {},
   "outputs": [
    {
     "name": "stdout",
     "output_type": "stream",
     "text": [
      "{'name': 'Holiday Inn Express London Limehouse, an IHG Hotel', 'location': 'Tower Hamlets, London', 'price': '€\\xa0118', 'rating': 'Scored 7.8 7.8'}\n",
      "{'name': 'The Pelham London - Starhotels Collezione', 'location': 'Kensington and Chelsea, London', 'price': '€\\xa0502', 'rating': 'Scored 8.3 8.3'}\n",
      "{'name': 'Britannia International Hotel Canary Wharf', 'location': 'Tower Hamlets, London', 'price': '€\\xa094', 'rating': 'Scored 5.7 5.7'}\n",
      "{'name': 'The Z Hotel Holborn', 'location': 'Camden, London', 'price': '€\\xa0143', 'rating': 'Scored 8.1 8.1'}\n",
      "{'name': 'Flat in London', 'location': 'Camden, London', 'price': '€\\xa0118', 'rating': 'Scored 4.8 4.8'}\n",
      "{'name': 'Snoozebox Olympic Park', 'location': 'Newham, London', 'price': '€\\xa091', 'rating': 'Scored 8.0 8.0'}\n",
      "{'name': 'Holiday Inn Express Park Royal, an IHG Hotel', 'location': 'Acton, London', 'price': '€\\xa0122', 'rating': 'Scored 8.1 8.1'}\n",
      "{'name': 'Four Points Express by Sheraton London Euston', 'location': 'Camden, London', 'price': '€\\xa0154', 'rating': 'Scored 6.9 6.9'}\n",
      "{'name': 'Holiday Inn Express Royal Docks, an IHG Hotel', 'location': 'Newham, London', 'price': '€\\xa0118', 'rating': 'Scored 7.8 7.8'}\n",
      "{'name': 'Holiday Inn Express Southwark, an IHG Hotel', 'location': 'Southwark, London', 'price': '€\\xa0181', 'rating': 'Scored 8.1 8.1'}\n",
      "{'name': 'The Z Hotel Shoreditch', 'location': 'Islington, London', 'price': '€\\xa0125', 'rating': 'Scored 7.8 7.8'}\n",
      "{'name': 'The Z Hotel Trafalgar', 'location': 'Westminster Borough, London', 'price': '€\\xa0155', 'rating': 'Scored 8.4 8.4'}\n",
      "{'name': 'Doubletree By Hilton London - Greenwich', 'location': 'Greenwich, London', 'price': '€\\xa0142', 'rating': 'Scored 8.2 8.2'}\n",
      "{'name': 'The Z Hotel Victoria', 'location': 'Westminster Borough, London', 'price': '€\\xa0155', 'rating': 'Scored 7.8 7.8'}\n",
      "{'name': 'Generator London', 'location': 'Camden, London', 'price': '€\\xa0106', 'rating': 'Scored 6.9 6.9'}\n",
      "{'name': 'Leigh House Hotel', 'location': 'Camden, London', 'price': '€\\xa0131', 'rating': 'Scored 7.2 7.2'}\n",
      "{'name': 'The Resident Victoria', 'location': 'Westminster Borough, London', 'price': '€\\xa0214', 'rating': 'Scored 9.0 9.0'}\n",
      "{'name': 'The Dilly', 'location': 'Westminster Borough, London', 'price': '€\\xa0335', 'rating': 'Scored 8.2 8.2'}\n",
      "{'name': 'The Tower Hotel, London', 'location': 'Tower Hamlets, London', 'price': '€\\xa0162', 'rating': 'Scored 7.7 7.7'}\n",
      "{'name': 'The Z Hotel Strand', 'location': 'Westminster Borough, London', 'price': '€\\xa0167', 'rating': 'Scored 8.5 8.5'}\n",
      "{'name': 'Strand Palace', 'location': 'Westminster Borough, London', 'price': '€\\xa0238', 'rating': 'Scored 8.2 8.2'}\n",
      "{'name': 'Moxy London Excel', 'location': 'Newham, London', 'price': '€\\xa0118', 'rating': 'Scored 8.2 8.2'}\n",
      "{'name': 'citizenM London Victoria Station', 'location': 'Westminster Borough, London', 'price': '€\\xa0216', 'rating': 'Scored 8.9 8.9'}\n",
      "{'name': 'YOTEL London Shoreditch', 'location': 'Tower Hamlets, London', 'price': '€\\xa0142', 'rating': 'Scored 7.7 7.7'}\n",
      "{'name': 'Radisson Blu Hotel, London Canary Wharf East', 'location': 'Tower Hamlets, London', 'price': '€\\xa0190', 'rating': 'Scored 8.7 8.7'}\n",
      "{'name': 'Leonardo Royal London St Paul’s', 'location': 'City of London, London', 'price': '€\\xa0275', 'rating': 'Scored 8.6 8.6'}\n"
     ]
    }
   ],
   "source": [
    "# Find all the hotel elements in the HTML document\n",
    "hotels = soup.findAll('div', {'data-testid': 'property-card'})\n",
    "\n",
    "hotels_data = []\n",
    "# Loop over the hotel elements and extract the desired data\n",
    "for hotel in hotels:\n",
    "    # Extract the hotel name\n",
    "    name_element = hotel.find('div', {'data-testid': 'title'})\n",
    "    name = name_element.text.strip() if name_element else 'N/A'\n",
    "\n",
    "    # Extract the hotel location\n",
    "    location_element = hotel.find('span', {'data-testid': 'address'})\n",
    "    location = location_element.text.strip() if location_element else 'N/A'\n",
    "\n",
    "    # Extract the hotel price\n",
    "    price_element = hotel.find('span', {'data-testid': 'price-and-discounted-price'})\n",
    "    price = price_element.text.strip() if price_element else 'N/A'\n",
    "    \n",
    "    # Extract the hotel rating\n",
    "    rating_element = hotel.find('div', {'class': 'a3b8729ab1 d86cee9b25'})\n",
    "    rating = rating_element.text.strip() if rating_element else 'N/A'\n",
    "    \n",
    "    # Append hotels_data with info about hotel\n",
    "    hotels_data.append({\n",
    "        'name': name,\n",
    "        'location': location,\n",
    "        'price': price,\n",
    "        'rating': rating\n",
    "    })\n",
    "\n",
    "# Output the collected hotel data\n",
    "for hotel in hotels_data:\n",
    "    print(hotel)\n"
   ]
  },
  {
   "cell_type": "code",
   "execution_count": 43,
   "metadata": {},
   "outputs": [
    {
     "data": {
      "text/html": [
       "<div>\n",
       "<style scoped>\n",
       "    .dataframe tbody tr th:only-of-type {\n",
       "        vertical-align: middle;\n",
       "    }\n",
       "\n",
       "    .dataframe tbody tr th {\n",
       "        vertical-align: top;\n",
       "    }\n",
       "\n",
       "    .dataframe thead th {\n",
       "        text-align: right;\n",
       "    }\n",
       "</style>\n",
       "<table border=\"1\" class=\"dataframe\">\n",
       "  <thead>\n",
       "    <tr style=\"text-align: right;\">\n",
       "      <th></th>\n",
       "      <th>name</th>\n",
       "      <th>location</th>\n",
       "      <th>price</th>\n",
       "      <th>rating</th>\n",
       "    </tr>\n",
       "  </thead>\n",
       "  <tbody>\n",
       "    <tr>\n",
       "      <th>0</th>\n",
       "      <td>Holiday Inn Express London Limehouse, an IHG H...</td>\n",
       "      <td>Tower Hamlets, London</td>\n",
       "      <td>€ 118</td>\n",
       "      <td>Scored 7.8 7.8</td>\n",
       "    </tr>\n",
       "    <tr>\n",
       "      <th>1</th>\n",
       "      <td>The Pelham London - Starhotels Collezione</td>\n",
       "      <td>Kensington and Chelsea, London</td>\n",
       "      <td>€ 502</td>\n",
       "      <td>Scored 8.3 8.3</td>\n",
       "    </tr>\n",
       "    <tr>\n",
       "      <th>2</th>\n",
       "      <td>Britannia International Hotel Canary Wharf</td>\n",
       "      <td>Tower Hamlets, London</td>\n",
       "      <td>€ 94</td>\n",
       "      <td>Scored 5.7 5.7</td>\n",
       "    </tr>\n",
       "    <tr>\n",
       "      <th>3</th>\n",
       "      <td>The Z Hotel Holborn</td>\n",
       "      <td>Camden, London</td>\n",
       "      <td>€ 143</td>\n",
       "      <td>Scored 8.1 8.1</td>\n",
       "    </tr>\n",
       "    <tr>\n",
       "      <th>4</th>\n",
       "      <td>Flat in London</td>\n",
       "      <td>Camden, London</td>\n",
       "      <td>€ 118</td>\n",
       "      <td>Scored 4.8 4.8</td>\n",
       "    </tr>\n",
       "    <tr>\n",
       "      <th>5</th>\n",
       "      <td>Snoozebox Olympic Park</td>\n",
       "      <td>Newham, London</td>\n",
       "      <td>€ 91</td>\n",
       "      <td>Scored 8.0 8.0</td>\n",
       "    </tr>\n",
       "    <tr>\n",
       "      <th>6</th>\n",
       "      <td>Holiday Inn Express Park Royal, an IHG Hotel</td>\n",
       "      <td>Acton, London</td>\n",
       "      <td>€ 122</td>\n",
       "      <td>Scored 8.1 8.1</td>\n",
       "    </tr>\n",
       "    <tr>\n",
       "      <th>7</th>\n",
       "      <td>Four Points Express by Sheraton London Euston</td>\n",
       "      <td>Camden, London</td>\n",
       "      <td>€ 154</td>\n",
       "      <td>Scored 6.9 6.9</td>\n",
       "    </tr>\n",
       "    <tr>\n",
       "      <th>8</th>\n",
       "      <td>Holiday Inn Express Royal Docks, an IHG Hotel</td>\n",
       "      <td>Newham, London</td>\n",
       "      <td>€ 118</td>\n",
       "      <td>Scored 7.8 7.8</td>\n",
       "    </tr>\n",
       "    <tr>\n",
       "      <th>9</th>\n",
       "      <td>Holiday Inn Express Southwark, an IHG Hotel</td>\n",
       "      <td>Southwark, London</td>\n",
       "      <td>€ 181</td>\n",
       "      <td>Scored 8.1 8.1</td>\n",
       "    </tr>\n",
       "  </tbody>\n",
       "</table>\n",
       "</div>"
      ],
      "text/plain": [
       "                                                name  \\\n",
       "0  Holiday Inn Express London Limehouse, an IHG H...   \n",
       "1          The Pelham London - Starhotels Collezione   \n",
       "2         Britannia International Hotel Canary Wharf   \n",
       "3                                The Z Hotel Holborn   \n",
       "4                                     Flat in London   \n",
       "5                             Snoozebox Olympic Park   \n",
       "6       Holiday Inn Express Park Royal, an IHG Hotel   \n",
       "7      Four Points Express by Sheraton London Euston   \n",
       "8      Holiday Inn Express Royal Docks, an IHG Hotel   \n",
       "9        Holiday Inn Express Southwark, an IHG Hotel   \n",
       "\n",
       "                         location  price          rating  \n",
       "0           Tower Hamlets, London  € 118  Scored 7.8 7.8  \n",
       "1  Kensington and Chelsea, London  € 502  Scored 8.3 8.3  \n",
       "2           Tower Hamlets, London   € 94  Scored 5.7 5.7  \n",
       "3                  Camden, London  € 143  Scored 8.1 8.1  \n",
       "4                  Camden, London  € 118  Scored 4.8 4.8  \n",
       "5                  Newham, London   € 91  Scored 8.0 8.0  \n",
       "6                   Acton, London  € 122  Scored 8.1 8.1  \n",
       "7                  Camden, London  € 154  Scored 6.9 6.9  \n",
       "8                  Newham, London  € 118  Scored 7.8 7.8  \n",
       "9               Southwark, London  € 181  Scored 8.1 8.1  "
      ]
     },
     "execution_count": 43,
     "metadata": {},
     "output_type": "execute_result"
    }
   ],
   "source": [
    "hotels = pd.DataFrame(hotels_data)\n",
    "hotels.head(10)"
   ]
  },
  {
   "cell_type": "code",
   "execution_count": 44,
   "metadata": {},
   "outputs": [],
   "source": [
    "hotels.to_csv('hotels.csv', header=True, index=False)"
   ]
  }
 ],
 "metadata": {
  "kernelspec": {
   "display_name": "Python 3",
   "language": "python",
   "name": "python3"
  },
  "language_info": {
   "codemirror_mode": {
    "name": "ipython",
    "version": 3
   },
   "file_extension": ".py",
   "mimetype": "text/x-python",
   "name": "python",
   "nbconvert_exporter": "python",
   "pygments_lexer": "ipython3",
   "version": "3.11.9"
  }
 },
 "nbformat": 4,
 "nbformat_minor": 2
}
